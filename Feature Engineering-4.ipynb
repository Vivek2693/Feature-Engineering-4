{
 "cells": [
  {
   "cell_type": "markdown",
   "id": "626efa04",
   "metadata": {},
   "source": [
    "## Q1. What is data encoding? How is it useful in data science?\n",
    "Data encoding is the process of converting categorical data into numerical format so that it can be used in machine learning algorithms. It is useful in data science because many machine learning algorithms re## Quire numerical input, and encoding allows us to represent categorical variables in a way that the algorithms can understand and process.\n",
    "\n",
    "## Q2. What is nominal encoding? Provide an example of how you would use it in a real-world scenario.\n",
    "Nominal encoding, also known as label encoding, assigns a uni## Que integer to each category in a categorical variable. For example, in a dataset of car models, we might have categories like \"Toyota\", \"Honda\", \"Ford\", etc. Nominal encoding would assign each category a uni## Que integer, such as 0 for \"Toyota\", 1 for \"Honda\", 2 for \"Ford\", and so on.\n",
    "\n",
    "## Q3. In what situations is nominal encoding preferred over one-hot encoding? Provide a practical example.\n",
    "Nominal encoding is preferred when the categorical variable has a large number of uni## Que categories or when the ordinality of the categories is important. For example, in a dataset of movie genres, where the genres are hierarchical (e.g., \"Action\" > \"Adventure\" > \"Sci-Fi\"), nominal encoding preserves the ordinal relationship between the categories.\n",
    "\n",
    "## Q4. Suppose you have a dataset containing categorical data with 5 uni## Que values. Which encoding techni## Que would you use to transform this data into a format suitable for machine learning algorithms? Explain why you made this choice.\n",
    "If the categorical variable represents nominal data (unordered categories), I would use nominal encoding (label encoding) because it assigns a uni## Que integer to each category, making it suitable for machine learning algorithms.\n",
    "\n",
    "## Q5. In a machine learning project, you have a dataset with 1000 rows and 5 columns. Two of the columns are categorical, and the remaining three columns are numerical. If you were to use nominal encoding to transform the categorical data, how many new columns would be created? Show your calculations.\n",
    "If we use nominal encoding on two categorical columns with 5 uni## Que values each, each categorical column will be replaced by a single numerical column. So, in total, we will create 2 new columns.\n",
    "\n",
    "## Q6. You are working with a dataset containing information about different types of animals, including their species, habitat, and diet. Which encoding techni## Que would you use to transform the categorical data into a format suitable for machine learning algorithms? Justify your answer.\n",
    "I would use nominal encoding for the \"species\" column and one-hot encoding for the \"habitat\" and \"diet\" columns. Nominal encoding for \"species\" because there might be a hierarchical relationship between different species. One-hot encoding for \"habitat\" and \"diet\" because these variables likely have no ordinal relationship, and we want to avoid introducing any implicit ordinality.\n",
    "\n",
    "## Q7. You are working on a project that involves predicting customer churn for a telecommunications company. You have a dataset with 5 features, including the customer's gender, age, contract type, monthly charges, and tenure. Which encoding techni## Que(s) would you use to transform the categorical data into numerical data? Provide a step-by-step explanation of how you would implement the encoding.\n",
    "For this scenario:\n",
    "\n",
    "I would use nominal encoding for the \"gender\" and \"contract type\" columns because these variables likely have a few categories and no inherent ordinal relationship.\n",
    "I would use one-hot encoding for \"gender\" and \"contract type\" to transform them into binary columns. Each category within these columns would become a new binary column, indicating the presence or absence of each category for each data point.\n",
    "For numerical columns like \"age\", \"monthly charges\", and \"tenure\", I would leave them as they are since they are already in a numerical format and do not re## Quire further encoding.\n"
   ]
  },
  {
   "cell_type": "code",
   "execution_count": null,
   "id": "6bbec1d3",
   "metadata": {},
   "outputs": [],
   "source": []
  }
 ],
 "metadata": {
  "kernelspec": {
   "display_name": "Python 3 (ipykernel)",
   "language": "python",
   "name": "python3"
  },
  "language_info": {
   "codemirror_mode": {
    "name": "ipython",
    "version": 3
   },
   "file_extension": ".py",
   "mimetype": "text/x-python",
   "name": "python",
   "nbconvert_exporter": "python",
   "pygments_lexer": "ipython3",
   "version": "3.10.9"
  }
 },
 "nbformat": 4,
 "nbformat_minor": 5
}
